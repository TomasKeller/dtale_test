{
 "cells": [
  {
   "cell_type": "markdown",
   "metadata": {},
   "source": [
    "# dtale\n",
    "- https://pypi.org/project/dtale/\n",
    "- https://towardsdatascience.com/introduction-to-d-tale-5eddd81abe3f\n",
    "\n",
    "### install by running\n",
    "pip install --upgrade dtale\n",
    "\n",
    "make sure all columns have the correct type, e.g. dates must be converted to datetime"
   ]
  },
  {
   "cell_type": "code",
   "execution_count": 1,
   "metadata": {},
   "outputs": [
    {
     "data": {
      "text/plain": [
       "True"
      ]
     },
     "execution_count": 1,
     "metadata": {},
     "output_type": "execute_result"
    }
   ],
   "source": [
    "import os\n",
    "from pathlib import Path\n",
    "from dotenv import load_dotenv\n",
    "\n",
    "creds = Path.home() / '.config' / 'cf_creds'\n",
    "load_dotenv(creds)"
   ]
  },
  {
   "cell_type": "code",
   "execution_count": 2,
   "metadata": {},
   "outputs": [
    {
     "data": {
      "application/vnd.jupyter.widget-view+json": {
       "model_id": "3fe9694fd60042d28b0112264ca2a36c",
       "version_major": 2,
       "version_minor": 0
      },
      "text/plain": [
       "HBox(children=(FloatProgress(value=1.0, bar_style='info', max=1.0), HTML(value='')))"
      ]
     },
     "metadata": {},
     "output_type": "display_data"
    },
    {
     "name": "stdout",
     "output_type": "stream",
     "text": [
      "\n"
     ]
    }
   ],
   "source": [
    "from cf_utils import db\n",
    "import pandas as pd\n",
    "\n",
    "df_approved_lt10 = db.run_query(\"\"\"\n",
    "SELECT convert(date,check_date) as date, cc.score, ca.customer_id\n",
    "FROM\n",
    "app_creditchecks cc\n",
    "inner join creditapplications ca on cc.application_id=ca.application_id\n",
    "WHERE\n",
    "template='LT10'\n",
    "AND amount=10000\n",
    "AND cc.application_id in (select application_id from acceptedcreditapplications)\n",
    "AND YEAR(check_date)=2020\n",
    " \n",
    "    \"\"\", 'AZURE_DB_PRODVILA_DATABASE')\n",
    "\n",
    "df_approved_lt10['date']=pd.to_datetime(df_approved_lt10['date'],format='%Y-%m-%d')"
   ]
  },
  {
   "cell_type": "code",
   "execution_count": 3,
   "metadata": {},
   "outputs": [],
   "source": [
    "import dtale\n",
    "import pandas as pd\n",
    "d = dtale.show(df_approved_lt10)\n",
    "d.open_browser()"
   ]
  },
  {
   "cell_type": "code",
   "execution_count": 4,
   "metadata": {},
   "outputs": [
    {
     "data": {
      "text/plain": [
       "'http://Tomass-MacBook-Pro-2.local:40000'"
      ]
     },
     "execution_count": 4,
     "metadata": {},
     "output_type": "execute_result"
    }
   ],
   "source": [
    "d._url "
   ]
  },
  {
   "cell_type": "code",
   "execution_count": 5,
   "metadata": {},
   "outputs": [
    {
     "name": "stdout",
     "output_type": "stream",
     "text": [
      "Executing shutdown...\n"
     ]
    },
    {
     "name": "stderr",
     "output_type": "stream",
     "text": [
      "2020-05-05 08:49:06,686 - INFO     - Executing shutdown...\n"
     ]
    }
   ],
   "source": [
    "d.kill()"
   ]
  },
  {
   "cell_type": "code",
   "execution_count": null,
   "metadata": {},
   "outputs": [],
   "source": []
  }
 ],
 "metadata": {
  "kernelspec": {
   "display_name": "Python 3",
   "language": "python",
   "name": "python3"
  },
  "language_info": {
   "codemirror_mode": {
    "name": "ipython",
    "version": 3
   },
   "file_extension": ".py",
   "mimetype": "text/x-python",
   "name": "python",
   "nbconvert_exporter": "python",
   "pygments_lexer": "ipython3",
   "version": "3.7.7"
  }
 },
 "nbformat": 4,
 "nbformat_minor": 4
}
